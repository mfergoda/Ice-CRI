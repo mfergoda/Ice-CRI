{
 "cells": [
  {
   "cell_type": "markdown",
   "metadata": {},
   "source": [
    "# GetARMSondes\n",
    "\n",
    "Purpose: In this module you will download radiosondes made at Atmospheric Radiation Measurement (ARM) field stations. \n",
    "\n",
    "Skills learned: <br> \n",
    "\n",
    "Computer skills: Linux/Unix general commands. \n",
    "NSF Polar data: Ordering and downloading data from the ARM archive.\n",
    "\n",
    "Steps:\n",
    "\n",
    "A) Order the data from ARM.\n",
    "\n",
    "B) Download the data onto a computer.\n",
    "\n"
   ]
  },
  {
   "cell_type": "markdown",
   "metadata": {},
   "source": [
    "## A. Order AWARE data from ARM:\n",
    "\n",
    "1) Go to the AWARE data website at: http://www.arm.gov/sites/amf/awr, and read about the AMF deployment at McMurdo.\n",
    "\n",
    "2) On the right, under Deployment Operations, click on Baseline Instruments and Data Plots.\n",
    "\n",
    "3) Scroll down.  Near the bottom you will see SONDE, then Balloon-Borne Sounding System. Click on Browse Data.\n",
    "\n",
    "4) Check out how the data is organized: Date at the top, green means good data, orange means data questionable, etc. \n",
    "\n",
    "5) Click the box at the top left of the upper set of data to get all the AWARE data from McMurdo.\n",
    "\n",
    "6) Click the Cart button in the upper right.\n",
    "\n",
    "7) Click the brown button in the upper right with an arrow pointing down.\n",
    "\n",
    "8) You will be prompted to create a user account. Fill out the form to create it.\n",
    "\n",
    "9) Then you will click one more button to confirm and then another (\"OK\").\n",
    "\n",
    "10) The data should be made available from an ftp site in 48 hours. You will receive an email with directions."
   ]
  },
  {
   "cell_type": "markdown",
   "metadata": {},
   "source": [
    "## B. Put the McMurdo data on the T7500\n",
    "\n",
    "To put the data on the T7500, you can use XQuartz or the standard Terminal:\n",
    "\n",
    "1) Open Terminal - or - open XQuartz and under Applications select \"Terminal\" \n",
    "\n",
    "2) (Note: When you should type something, I'll write a dollar sign and a space before what you should type.  Those are meant to mimic what you see at the prompt.  Don't type them, just type what comes after).  Type:\n",
    "\n",
    "&nbsp; &nbsp; &nbsp; &nbsp; $ ssh chemistry@ha329-T7500.pugetsound.edu\n",
    "\n",
    "3) If it asks if \"Are you sure ...\" type \n",
    "\n",
    "&nbsp; &nbsp; &nbsp; &nbsp; $ yes\n",
    "\n",
    "4) Enter the password.\n",
    "\n",
    "5) You should be in the home directory. Create a folder for the McMurdo radiosonde data:\n",
    "\n",
    "&nbsp; &nbsp; &nbsp; &nbsp;\\$ mkdir McMurdo <br>\n",
    "&nbsp; &nbsp; &nbsp; &nbsp;\\$ cd McMurdo <br>\n",
    "&nbsp; &nbsp; &nbsp; &nbsp;\\$ mkdir radiosondes <br>\n",
    "&nbsp; &nbsp; &nbsp; &nbsp;\\$ cd radiosondes \n",
    "\n",
    "6) Now you're all set to put the ARM data into the radiosondes folder.  Directions are in the email you got from ARM.  You use the file transfer protocol (ftp) command:\n",
    "\n",
    "&nbsp; &nbsp; &nbsp; &nbsp; $ ftp ftp.archive.arm.gov\n",
    "\n",
    "7) After that you enter ftp for the username and then your email address for the password.\n",
    "\n",
    "8) Now you have to cd into the directory they created for you.  It's given in the email too.\n",
    "\n",
    "&nbsp; &nbsp; &nbsp; &nbsp; $ cd myUserFile/myUserDataFile\n",
    "\n",
    "9) You can get all the data at the same time with the following. It will take a while:\n",
    "\n",
    "&nbsp; &nbsp; &nbsp; &nbsp; $ mget -i *\n",
    "\n",
    "10) Finally, when it finishes, log off by typing\n",
    "\n",
    "&nbsp; &nbsp; &nbsp; &nbsp; $ quit\n"
   ]
  },
  {
   "cell_type": "markdown",
   "metadata": {},
   "source": [
    "##D. Look at the data\n",
    "\n",
    "Let's look at some radiosonde data!  We'll need some tools"
   ]
  },
  {
   "cell_type": "code",
   "execution_count": 1,
   "metadata": {
    "collapsed": true
   },
   "outputs": [],
   "source": [
    "# .. The files are netcdf files. We need the netcdf module for reading them in.\n",
    "#    We also need a module for plotting\n",
    "import scipy.io.netcdf as netcdf\n",
    "import matplotlib.pyplot as plt "
   ]
  },
  {
   "cell_type": "code",
   "execution_count": 3,
   "metadata": {
    "collapsed": false
   },
   "outputs": [],
   "source": [
    "# .. Specify the directory where we put the radiosondes \n",
    "#    and the name of one of the files.\n",
    "sondesdirectory = \"/home/chemistry/McMurdo/Radiosondes/\"\n",
    "sondesfile_winter = \"awrsondewnpnM1.b1.20160730.104500.custom.cdf\""
   ]
  },
  {
   "cell_type": "code",
   "execution_count": 4,
   "metadata": {
    "collapsed": false
   },
   "outputs": [],
   "source": [
    "# .. Note that the filenames included the data: 20160730 means 2016/07/30. \n",
    "#    July is winter in Antarctica, so we'll load this in to a variable\n",
    "#    called winter, using the netcdf module.\n",
    "winter = netcdf.netcdf_file(sondesdirectory+sondesfile_winter)\n"
   ]
  },
  {
   "cell_type": "code",
   "execution_count": 5,
   "metadata": {
    "collapsed": false
   },
   "outputs": [
    {
     "data": {
      "text/plain": [
       "{'alt': <scipy.io.netcdf.netcdf_variable at 0x7f728b5f88d0>,\n",
       " 'base_time': <scipy.io.netcdf.netcdf_variable at 0x7f728b5eced0>,\n",
       " 'deg': <scipy.io.netcdf.netcdf_variable at 0x7f728b5f8810>,\n",
       " 'dp': <scipy.io.netcdf.netcdf_variable at 0x7f728b5f8710>,\n",
       " 'lat': <scipy.io.netcdf.netcdf_variable at 0x7f728b5f8990>,\n",
       " 'lon': <scipy.io.netcdf.netcdf_variable at 0x7f728b5f8a50>,\n",
       " 'pres': <scipy.io.netcdf.netcdf_variable at 0x7f728b5f8290>,\n",
       " 'rh': <scipy.io.netcdf.netcdf_variable at 0x7f728b5f8650>,\n",
       " 'tdry': <scipy.io.netcdf.netcdf_variable at 0x7f728b5f8350>,\n",
       " 'time': <scipy.io.netcdf.netcdf_variable at 0x7f728b5f80d0>,\n",
       " 'time_offset': <scipy.io.netcdf.netcdf_variable at 0x7f728b5ecf90>,\n",
       " 'u_wind': <scipy.io.netcdf.netcdf_variable at 0x7f728b5f8450>,\n",
       " 'v_wind': <scipy.io.netcdf.netcdf_variable at 0x7f728b5f8550>,\n",
       " 'wspd': <scipy.io.netcdf.netcdf_variable at 0x7f728b5f81d0>}"
      ]
     },
     "execution_count": 5,
     "metadata": {},
     "output_type": "execute_result"
    }
   ],
   "source": [
    "# .. winter contains variables.  What are they?\n",
    "winter.variables"
   ]
  },
  {
   "cell_type": "code",
   "execution_count": 32,
   "metadata": {
    "collapsed": false
   },
   "outputs": [],
   "source": [
    "# .. So the variables are listed above in single quotes. Let's check out\n",
    "#    the first one, 'alt,' which is the altitude. First, we get it and\n",
    "#    put it into a new variable we will call altitude. \n",
    "altitude = winter.variables['alt']"
   ]
  },
  {
   "cell_type": "code",
   "execution_count": null,
   "metadata": {
    "collapsed": true
   },
   "outputs": [],
   "source": [
    "# .. You can see what's in it by typing \"altitude.\" and then hitting the tab key. Do that now\n",
    "#    by putting your cursor after the period below and hitting tab. A window appears with a list\n",
    "#    of attributes for altitude. Select \"long_name\" and \n",
    "#    shift-enter to see a more descriptive name for the variable. \n",
    "altitude."
   ]
  },
  {
   "cell_type": "code",
   "execution_count": 31,
   "metadata": {
    "collapsed": false
   },
   "outputs": [
    {
     "data": {
      "text/plain": [
       "'m'"
      ]
     },
     "execution_count": 31,
     "metadata": {},
     "output_type": "execute_result"
    }
   ],
   "source": [
    "# .. Repeat but this time select \"units\"\n",
    "altitude.units"
   ]
  },
  {
   "cell_type": "code",
   "execution_count": 36,
   "metadata": {
    "collapsed": false
   },
   "outputs": [
    {
     "data": {
      "text/plain": [
       "array([    37.5       ,     39.59999847,     43.29999924, ...,\n",
       "        13588.59960938,  13595.20019531,  13601.59960938], dtype=float32)"
      ]
     },
     "execution_count": 36,
     "metadata": {},
     "output_type": "execute_result"
    }
   ],
   "source": [
    "# .. Do it one more time but select \"data\" to see the altitude data themselves.\n",
    "altitude.data"
   ]
  },
  {
   "cell_type": "code",
   "execution_count": 38,
   "metadata": {
    "collapsed": true
   },
   "outputs": [],
   "source": [
    "# .. 'tdry' is the temperature. We will assign it to a variable called \"temperature\"\n",
    "temperature = winter.variables['tdry']\n"
   ]
  },
  {
   "cell_type": "code",
   "execution_count": 39,
   "metadata": {
    "collapsed": false,
    "scrolled": true
   },
   "outputs": [
    {
     "data": {
      "text/plain": [
       "[<matplotlib.lines.Line2D at 0x7f728b2ec8d0>]"
      ]
     },
     "execution_count": 39,
     "metadata": {},
     "output_type": "execute_result"
    },
    {
     "data": {
      "image/png": "[encoded data removed]",
      "text/plain": [
       "<matplotlib.figure.Figure at 0x7f728b3ced10>"
      ]
     },
     "metadata": {},
     "output_type": "display_data"
    }
   ],
   "source": [
    "# .. We can plot the temperature as a funciton of altitude. Note that we put altitude on \n",
    "#    the y-axis so we can imagine going up in the atmosphere\n",
    "plt.plot(temperature.data,altitude.data)"
   ]
  },
  {
   "cell_type": "code",
   "execution_count": 41,
   "metadata": {
    "collapsed": false
   },
   "outputs": [
    {
     "data": {
      "text/plain": [
       "[<matplotlib.lines.Line2D at 0x7f728b201290>]"
      ]
     },
     "execution_count": 41,
     "metadata": {},
     "output_type": "execute_result"
    },
    {
     "data": {
      "image/png": "[encoded data removed]",
      "text/plain": [
       "<matplotlib.figure.Figure at 0x7f728b399810>"
      ]
     },
     "metadata": {},
     "output_type": "display_data"
    }
   ],
   "source": [
    "# .. Your turn. 'RH' is the relative humidity. Assign it to a variable called \"relativehumidity\".\n",
    "#    Then plot it with altitude.\n",
    "relativehumidity = winter.variables['rh']\n",
    "plt.plot(relativehumidity.data,altitude.data)"
   ]
  },
  {
   "cell_type": "markdown",
   "metadata": {},
   "source": [
    "label plot, make more plots. change winter/sumer, how does temp change with season....\n"
   ]
  },
  {
   "cell_type": "code",
   "execution_count": 33,
   "metadata": {
    "collapsed": true
   },
   "outputs": [],
   "source": [
    "sondesdirectory = \"/home/chemistry/McMurdo/Radiosondes/\"\n",
    "sondesfile_fall = \"awrsondewnpnM1.b1.20160315.101700.custom.cdf\""
   ]
  },
  {
   "cell_type": "code",
   "execution_count": null,
   "metadata": {
    "collapsed": true
   },
   "outputs": [],
   "source": []
  }
 ],
 "metadata": {
  "kernelspec": {
   "display_name": "Python 2",
   "language": "python",
   "name": "python2"
  },
  "language_info": {
   "codemirror_mode": {
    "name": "ipython",
    "version": 2
   },
   "file_extension": ".py",
   "mimetype": "text/x-python",
   "name": "python",
   "nbconvert_exporter": "python",
   "pygments_lexer": "ipython2",
   "version": "2.7.11"
  }
 },
 "nbformat": 4,
 "nbformat_minor": 0
}
